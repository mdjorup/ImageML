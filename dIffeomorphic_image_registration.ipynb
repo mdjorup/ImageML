{
 "cells": [
  {
   "cell_type": "code",
   "execution_count": 2,
   "id": "d41313f7",
   "metadata": {},
   "outputs": [],
   "source": [
    "import numpy as np\n",
    "import matplotlib.pyplot as plt\n",
    "from skimage.io import imread, imshow\n",
    "import SimpleITK as sitk\n",
    "import copy\n",
    "\n",
    "\n",
    "from scipy.interpolate import griddata\n",
    "\n",
    "import time\n",
    "'''Read in data as a 1, 100, 100, 3 vector field, please change the PATHOFVELOCITY to the directory path of velocity ''' \n",
    "velocity = sitk.GetArrayFromImage(sitk.ReadImage(\"./code+data_Q3/data/initialV/v0Spatial.mhd\"))\n",
    "\n",
    "'''Read in data as a 1, 100, 100  image, please change the PATHOFSOURCE to the directory path of source '''\n",
    "source= sitk.GetArrayFromImage(sitk.ReadImage(\"./code+data_Q3/data/sourceImage/source.mhd\"))"
   ]
  },
  {
   "cell_type": "code",
   "execution_count": null,
   "id": "1c7dad16",
   "metadata": {},
   "outputs": [],
   "source": []
  },
  {
   "cell_type": "code",
   "execution_count": 3,
   "id": "5f1b6f02",
   "metadata": {},
   "outputs": [
    {
     "data": {
      "text/plain": [
       "<matplotlib.image.AxesImage at 0x24300fdf9d0>"
      ]
     },
     "execution_count": 3,
     "metadata": {},
     "output_type": "execute_result"
    },
    {
     "data": {
      "image/png": "[encoded data removed]",
      "text/plain": [
       "<Figure size 432x288 with 1 Axes>"
      ]
     },
     "metadata": {
      "needs_background": "light"
     },
     "output_type": "display_data"
    }
   ],
   "source": [
    "imshow(np.reshape(source, (100, 100)))"
   ]
  },
  {
   "cell_type": "code",
   "execution_count": 4,
   "id": "3c515076",
   "metadata": {},
   "outputs": [],
   "source": [
    "velocity = np.reshape(velocity, (100, 100, 3))\n",
    "source = np.reshape(source, (100, 100))"
   ]
  },
  {
   "cell_type": "code",
   "execution_count": 5,
   "id": "199150dd",
   "metadata": {},
   "outputs": [],
   "source": [
    "# We need to use euler integration to get to the deformed image\n",
    "#This is where we reshape the data to get rid of the 3rd pixel component of velocity.\n",
    "def v2d(data):\n",
    "    ret = []\n",
    "    for row in data:\n",
    "        r1 = []\n",
    "        for cell in row:\n",
    "            c1 = []\n",
    "            for index in cell:\n",
    "                if index != 0:\n",
    "                    c1.append(index)\n",
    "            r1.append(c1)\n",
    "        ret.append(r1)\n",
    "    return np.array(ret)\n",
    "velocity2d = v2d(velocity)\n"
   ]
  },
  {
   "cell_type": "code",
   "execution_count": 6,
   "id": "85c14fa0",
   "metadata": {},
   "outputs": [
    {
     "data": {
      "text/plain": [
       "array([[[-9.4003044e-05, -4.6192482e-04],\n",
       "        [-3.5812240e-04, -8.7574450e-04],\n",
       "        [-5.6039914e-04, -1.0780443e-03],\n",
       "        ...,\n",
       "        [ 5.8996887e-04,  9.8155206e-04],\n",
       "        [ 4.2606867e-04,  5.8787270e-04],\n",
       "        [ 1.8378929e-04,  6.6690613e-05]],\n",
       "\n",
       "       [[-3.6941655e-04,  1.4752429e-04],\n",
       "        [-6.0262717e-04, -2.1350756e-04],\n",
       "        [-7.0049055e-04, -5.2028010e-04],\n",
       "        ...,\n",
       "        [ 6.1395532e-04,  7.6414086e-04],\n",
       "        [ 3.0812068e-04,  7.0007518e-04],\n",
       "        [-4.4303772e-05,  4.7761155e-04]],\n",
       "\n",
       "       [[-5.4466445e-04,  7.0806872e-04],\n",
       "        [-7.1387691e-04,  4.8646703e-04],\n",
       "        [-7.0426287e-04,  1.5213713e-04],\n",
       "        ...,\n",
       "        [ 5.4023485e-04,  3.6540534e-04],\n",
       "        [ 1.6193883e-04,  6.3959975e-04],\n",
       "        [-2.2976636e-04,  7.6362304e-04]],\n",
       "\n",
       "       ...,\n",
       "\n",
       "       [[ 6.5645762e-04, -1.1894247e-03],\n",
       "        [ 5.2524731e-04, -1.3223113e-03],\n",
       "        [ 2.3726607e-04, -1.1410262e-03],\n",
       "        ...,\n",
       "        [ 7.8074168e-05,  4.9788971e-04],\n",
       "        [ 3.9256271e-04, -1.6082358e-04],\n",
       "        [ 6.0536945e-04, -7.7043427e-04]],\n",
       "\n",
       "       [[ 4.8690103e-04, -1.2355172e-03],\n",
       "        [ 2.7632108e-04, -1.5116166e-03],\n",
       "        [-3.6826008e-05, -1.4271811e-03],\n",
       "        ...,\n",
       "        [ 2.9675988e-04,  8.1374729e-04],\n",
       "        [ 4.8194686e-04,  7.8768935e-05],\n",
       "        [ 5.5605918e-04, -6.6144788e-04]],\n",
       "\n",
       "       [[ 2.1577440e-04, -9.6698035e-04],\n",
       "        [-4.0871091e-05, -1.3465863e-03],\n",
       "        [-3.2152236e-04, -1.4036123e-03],\n",
       "        ...,\n",
       "        [ 4.7718803e-04,  9.9218858e-04],\n",
       "        [ 4.9045635e-04,  3.5496766e-04],\n",
       "        [ 4.0176744e-04, -3.5258196e-04]]], dtype=float32)"
      ]
     },
     "execution_count": 6,
     "metadata": {},
     "output_type": "execute_result"
    }
   ],
   "source": [
    "velocity2d"
   ]
  },
  {
   "cell_type": "code",
   "execution_count": 7,
   "id": "791012f9",
   "metadata": {},
   "outputs": [
    {
     "data": {
      "text/plain": [
       "array([[[ 1.69207217e-07, -1.83606227e-07],\n",
       "        [ 3.72418149e-07, -2.64138993e-07],\n",
       "        [ 3.70875475e-07, -2.37608116e-07],\n",
       "        ...,\n",
       "        [ 7.80465065e-08, -1.13774509e-07],\n",
       "        [-1.07684502e-07, -3.08159339e-08],\n",
       "        [-5.90654512e-08, -6.78261412e-08]],\n",
       "\n",
       "       [[ 7.94718590e-08,  2.11848245e-07],\n",
       "        [ 1.92742677e-07,  7.61750096e-08],\n",
       "        [ 1.41439139e-07, -7.53023515e-08],\n",
       "        ...,\n",
       "        [-9.86392891e-08, -9.98119522e-08],\n",
       "        [-1.76806434e-07,  5.88102133e-08],\n",
       "        [-9.33261500e-08,  2.06116566e-07]],\n",
       "\n",
       "       [[ 4.74262387e-08,  4.27162443e-07],\n",
       "        [ 6.66775402e-08,  4.98710894e-07],\n",
       "        [-7.34472374e-09,  3.37755765e-07],\n",
       "        ...,\n",
       "        [-1.74468497e-07,  4.81992848e-08],\n",
       "        [-1.54758688e-07,  5.72265174e-09],\n",
       "        [-5.16228294e-08,  1.89908584e-07]],\n",
       "\n",
       "       ...,\n",
       "\n",
       "       [[ 6.93393087e-08,  1.59262529e-07],\n",
       "        [ 1.05719695e-07,  6.10429621e-07],\n",
       "        [ 1.76915412e-07,  6.59716254e-07],\n",
       "        ...,\n",
       "        [ 1.37080625e-07,  1.46484928e-07],\n",
       "        [ 9.73011191e-08, -2.81273838e-07],\n",
       "        [ 7.21079566e-08, -2.70217785e-07]],\n",
       "\n",
       "       [[ 1.75816907e-07, -2.22566808e-07],\n",
       "        [ 3.18093344e-07,  2.09864923e-07],\n",
       "        [ 4.02710977e-07,  4.05285451e-07],\n",
       "        ...,\n",
       "        [ 2.49338124e-07,  9.15820115e-08],\n",
       "        [ 9.62909752e-08, -3.35348063e-07],\n",
       "        [ 7.38270111e-08, -4.83693174e-07]],\n",
       "\n",
       "       [[ 2.22041587e-07, -3.92241307e-07],\n",
       "        [ 4.37616004e-07, -2.06712709e-07],\n",
       "        [ 4.89838955e-07, -1.47462360e-08],\n",
       "        ...,\n",
       "        [ 2.26979456e-07, -2.25857530e-08],\n",
       "        [ 9.52812712e-09, -2.14487431e-07],\n",
       "        [ 1.87681674e-08, -3.93170949e-07]]])"
      ]
     },
     "execution_count": 7,
     "metadata": {},
     "output_type": "execute_result"
    }
   ],
   "source": [
    "# differences\n",
    "\n",
    "def fd_x(u):\n",
    "    r = u.shape[0]\n",
    "    c = u.shape[1]\n",
    "    d = np.zeros((r, c, 2))\n",
    "    d[:, 1:c] = u[:,1:c]-u[:, 0:c-1]\n",
    "    d[:, 0] = u[:, 0]-u[:,c-1]\n",
    "    return d\n",
    "\n",
    "def fd_y(u):\n",
    "    r = u.shape[0]\n",
    "    c = u.shape[1]\n",
    "    d = np.zeros((r, c, 2))\n",
    "    d[1:r, :] = u[1:r, :]-u[0:r-1, :]\n",
    "    d[0, :] = u[0, :]-u[r-1, :]\n",
    "    return d\n",
    "\n",
    "def ret_jacobian(diffx, diffy):\n",
    "    return np.stack((diffx, diffy), axis=2)\n",
    "\n",
    "def component1(velos):\n",
    "    \n",
    "    jacob = ret_jacobian(fd_x(velos), fd_y(velos))\n",
    "    ret = np.empty((100, 100, 2, 1))\n",
    "    for row in range(jacob.shape[0]):\n",
    "        for col in range(jacob.shape[1]):\n",
    "            #jacob[row][col] = 2x2 matrix\n",
    "            #velos[row][col] = array length 2 (1x2)\n",
    "            v = np.reshape(velos[row][col], (2, 1))\n",
    "            j = jacob[row][col].T\n",
    "            ret[row][col] = np.dot(j, v)\n",
    "    return np.reshape(ret, (100, 100, 2))\n",
    "            \n",
    "\n",
    "#jacobian: \n",
    "# 1. calc the forward difference in x for every v [dvx/dx, dvx/dx]\n",
    "# 2. calc the forward difference in y for every v\n",
    "\n",
    "\n",
    "jacobian = ret_jacobian(fd_x(velocity2d), fd_y(velocity2d))\n",
    "comp1 = component1(velocity2d)\n",
    "comp1"
   ]
  },
  {
   "cell_type": "code",
   "execution_count": 8,
   "id": "87829ce7",
   "metadata": {},
   "outputs": [],
   "source": [
    "def compute_A(velos):\n",
    "    ret = np.empty((100, 100, 2, 2))\n",
    "    for row in range(velos.shape[0]):\n",
    "        for col in range(velos.shape[1]):\n",
    "            v = np.reshape(velos[row][col], (2, 1))\n",
    "            ret[row][col] = np.dot(v, v.T)\n",
    "    return ret\n",
    "\n",
    "def fd_x_A(u):\n",
    "    r = u.shape[0]\n",
    "    c = u.shape[1]\n",
    "    d = np.zeros((r, c, 2, 2))\n",
    "    d[:, 1:c] = u[:,1:c]-u[:, 0:c-1]\n",
    "    d[:, 0] = u[:, 0]-u[:,c-1]\n",
    "    return d\n",
    "\n",
    "def fd_y_A(u):\n",
    "    r = u.shape[0]\n",
    "    c = u.shape[1]\n",
    "    d = np.zeros((r, c, 2, 2))\n",
    "    d[1:r, :] = u[1:r, :]-u[0:r-1, :]\n",
    "    d[0, :] = u[0, :]-u[r-1, :]\n",
    "    return d\n",
    "\n",
    "def component2(velos):\n",
    "    A = compute_A(velos)\n",
    "    diff_x_A = fd_x_A(A)\n",
    "    diff_y_A = fd_y_A(A)\n",
    "    ret = np.empty((100, 100, 2))\n",
    "    for row in range(A.shape[0]):\n",
    "        for col in range(A.shape[1]):\n",
    "            ret[row][col][0] = diff_x_A[row][col][0][0] + diff_y_A[row][col][1][0]\n",
    "            ret[row][col][1] = diff_x_A[row][col][0][1] + diff_y_A[row][col][1][1]\n",
    "    return ret"
   ]
  },
  {
   "cell_type": "code",
   "execution_count": 9,
   "id": "d1b326ff",
   "metadata": {},
   "outputs": [
    {
     "data": {
      "text/plain": [
       "array([[[-3.15032579e-05,  2.44835349e-05],\n",
       "        [-2.40426476e-05,  2.84187316e-05],\n",
       "        [-1.37597955e-05,  2.15515087e-05],\n",
       "        ...,\n",
       "        [-1.53662678e-05, -2.98173721e-05],\n",
       "        [-2.83023374e-05, -9.93261631e-06],\n",
       "        [-3.35522008e-05,  1.03321147e-05]],\n",
       "\n",
       "       [[-2.12733160e-05,  1.15940567e-05],\n",
       "        [-1.12210823e-05,  4.38443364e-05],\n",
       "        [-1.99838374e-06,  6.13492491e-05],\n",
       "        ...,\n",
       "        [-2.79430331e-05, -8.86906840e-05],\n",
       "        [-3.24725344e-05, -6.51051680e-05],\n",
       "        [-2.94069283e-05, -2.81297889e-05]],\n",
       "\n",
       "       [[ 3.29288008e-06, -9.06914305e-06],\n",
       "        [ 1.13977916e-05,  2.45166669e-05],\n",
       "        [ 1.50417226e-05,  5.06115989e-05],\n",
       "        ...,\n",
       "        [-2.84735477e-05, -7.73464337e-05],\n",
       "        [-1.97150313e-05, -6.74039151e-05],\n",
       "        [-7.97138981e-06, -4.24247017e-05]],\n",
       "\n",
       "       ...,\n",
       "\n",
       "       [[ 2.83670474e-05, -2.15257172e-06],\n",
       "        [ 2.81686219e-05, -9.79831954e-06],\n",
       "        [ 2.27295622e-05, -1.13963459e-05],\n",
       "        ...,\n",
       "        [-9.32956417e-06,  2.50213671e-05],\n",
       "        [ 8.60860881e-06,  1.95663120e-05],\n",
       "        [ 2.18314274e-05,  9.02234668e-06]],\n",
       "\n",
       "       [[ 1.16059519e-05,  8.23198670e-06],\n",
       "        [ 9.68904288e-06, -2.52587134e-05],\n",
       "        [ 7.23210335e-06, -4.99727920e-05],\n",
       "        ...,\n",
       "        [ 3.63580183e-06,  7.59752009e-05],\n",
       "        [ 9.34983033e-06,  6.71373230e-05],\n",
       "        [ 1.18451791e-05,  4.20714618e-05]],\n",
       "\n",
       "       [[-1.67471135e-05,  2.12164121e-05],\n",
       "        [-1.47851860e-05, -5.98368561e-06],\n",
       "        [-9.69259702e-06, -3.26280829e-05],\n",
       "        ...,\n",
       "        [-3.57877103e-07,  4.82991262e-05],\n",
       "        [-8.92885376e-06,  5.19262562e-05],\n",
       "        [-1.47609228e-05,  4.21942595e-05]]])"
      ]
     },
     "execution_count": 9,
     "metadata": {},
     "output_type": "execute_result"
    }
   ],
   "source": [
    "def LPFilter(size, image):\n",
    "    blank_image = np.zeros(image.shape)\n",
    "    acceptable = list(range(int(image.shape[0]/2 - size/2), int(image.shape[0]/2 + size/2)))\n",
    "    for r in acceptable:\n",
    "        for c in acceptable:\n",
    "            blank_image[r][c] = [1, 1]\n",
    "    return blank_image\n",
    "\n",
    "def dvdt(velos):\n",
    "    total = component1(velos) + component2(velos)\n",
    "    fourier_image = np.fft.fft2(total)\n",
    "    fourier_image_shifted = np.fft.fftshift(fourier_image)\n",
    "    fourier_image_shifted = fourier_image_shifted * LPFilter(16, fourier_image_shifted)\n",
    "    inverse_filter = np.real(np.fft.ifft2(np.fft.ifftshift(fourier_image_shifted)))\n",
    "    return -1* inverse_filter\n",
    "dvdt(velocity2d)"
   ]
  },
  {
   "cell_type": "code",
   "execution_count": 10,
   "id": "aa34b224",
   "metadata": {},
   "outputs": [
    {
     "data": {
      "text/plain": [
       "(100, 100, 2)"
      ]
     },
     "execution_count": 10,
     "metadata": {},
     "output_type": "execute_result"
    }
   ],
   "source": [
    "velocity2d.shape"
   ]
  },
  {
   "cell_type": "code",
   "execution_count": 11,
   "id": "b89ece65",
   "metadata": {},
   "outputs": [],
   "source": [
    "def initialize_mapping(row, col):\n",
    "    ret = np.empty((100, 100, 2))\n",
    "    for r in range(row):\n",
    "        for c in range(col):\n",
    "            ret[r][c] = (r, c)\n",
    "    return ret #.reshape(100*100, 2)\n",
    "a = initialize_mapping(100, 100)"
   ]
  },
  {
   "cell_type": "code",
   "execution_count": 12,
   "id": "ecff5fd0",
   "metadata": {},
   "outputs": [],
   "source": [
    "def doit(step, source_image, initial_velocity):\n",
    "    t = 0\n",
    "    \n",
    "    velocity = copy.deepcopy(initial_velocity)\n",
    "    \n",
    "    image = copy.deepcopy(source_image)\n",
    "    \n",
    "    grid_x, grid_y = np.mgrid[0:99:100j, 0:99:100j]\n",
    "    points = initialize_mapping(100, 100)# (100, 100, 2)\n",
    "    \n",
    "    for a in np.arange(0, 1, step):\n",
    "        \n",
    "        coord_mapping = points + velocity * step#(100, 100, 2)\n",
    "        \n",
    "        image = griddata(points.reshape(100*100, 2), image.reshape(100*100), coord_mapping.reshape(100*100, 2), fill_value=0)\n",
    "        \n",
    "        image = image.reshape((100, 100))\n",
    "        delta_velocity = dvdt(velocity) * step\n",
    "        velocity = velocity + delta_velocity\n",
    "\n",
    "    return image.T\n",
    "        \n",
    "        "
   ]
  },
  {
   "cell_type": "code",
   "execution_count": 13,
   "id": "e0187c9d",
   "metadata": {},
   "outputs": [],
   "source": [
    "velocity = np.reshape(velocity, (100, 100, 3))\n",
    "source = np.reshape(source, (100, 100))\n",
    "velocity2d = v2d(velocity)\n",
    "deformed_image = doit(0.1, source, velocity2d)"
   ]
  },
  {
   "cell_type": "code",
   "execution_count": 14,
   "id": "54f9e3cd",
   "metadata": {},
   "outputs": [
    {
     "data": {
      "text/plain": [
       "<matplotlib.image.AxesImage at 0x243020648e0>"
      ]
     },
     "execution_count": 14,
     "metadata": {},
     "output_type": "execute_result"
    },
    {
     "data": {
      "image/png": "[encoded data removed]",
      "text/plain": [
       "<Figure size 432x288 with 1 Axes>"
      ]
     },
     "metadata": {
      "needs_background": "light"
     },
     "output_type": "display_data"
    }
   ],
   "source": [
    "imshow(deformed_image, cmap='gray')"
   ]
  },
  {
   "cell_type": "code",
   "execution_count": 15,
   "id": "188295dd",
   "metadata": {},
   "outputs": [
    {
     "data": {
      "text/plain": [
       "<matplotlib.image.AxesImage at 0x24302210bb0>"
      ]
     },
     "execution_count": 15,
     "metadata": {},
     "output_type": "execute_result"
    },
    {
     "data": {
      "image/png": "[encoded data removed]",
      "text/plain": [
       "<Figure size 432x288 with 1 Axes>"
      ]
     },
     "metadata": {
      "needs_background": "light"
     },
     "output_type": "display_data"
    }
   ],
   "source": [
    "imshow(np.reshape(source, (100, 100)))"
   ]
  },
  {
   "cell_type": "code",
   "execution_count": null,
   "id": "3d9c0598",
   "metadata": {},
   "outputs": [],
   "source": []
  }
 ],
 "metadata": {
  "kernelspec": {
   "display_name": "Python 3 (ipykernel)",
   "language": "python",
   "name": "python3"
  },
  "language_info": {
   "codemirror_mode": {
    "name": "ipython",
    "version": 3
   },
   "file_extension": ".py",
   "mimetype": "text/x-python",
   "name": "python",
   "nbconvert_exporter": "python",
   "pygments_lexer": "ipython3",
   "version": "3.9.6"
  }
 },
 "nbformat": 4,
 "nbformat_minor": 5
}
