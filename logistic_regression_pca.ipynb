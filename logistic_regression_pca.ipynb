{
 "cells": [
  {
   "cell_type": "code",
   "execution_count": 1,
   "id": "7b3a669e",
   "metadata": {},
   "outputs": [],
   "source": [
    "# PS3 Notes\n",
    "import numpy as np\n",
    "import pandas as pd\n",
    "from skimage.io import imread, imshow\n",
    "import time\n"
   ]
  },
  {
   "cell_type": "code",
   "execution_count": 2,
   "id": "86695d09",
   "metadata": {},
   "outputs": [],
   "source": [
    "testX = np.array(pd.read_csv(\"testX-Copy1.csv\"))\n",
    "testY = np.array(pd.read_csv(\"testY-Copy1.csv\"))\n",
    "trainX = np.array(pd.read_csv(\"trainX-Copy1.csv\"))\n",
    "trainY = np.array(pd.read_csv(\"trainY-Copy1.csv\"))\n"
   ]
  },
  {
   "cell_type": "code",
   "execution_count": 3,
   "id": "36e56f9e",
   "metadata": {},
   "outputs": [],
   "source": [
    "'''\n",
    "B\n",
    "\n",
    "B = N(0, sigma^2 * I) - \n",
    "all weights B are initialized from a normal distribution with mean = 0 and sigma is the standard deviation\n",
    "\n",
    "'''\n",
    "a = 0\n"
   ]
  },
  {
   "cell_type": "code",
   "execution_count": 4,
   "id": "a985f332",
   "metadata": {},
   "outputs": [
    {
     "data": {
      "text/plain": [
       "(84, 1)"
      ]
     },
     "execution_count": 4,
     "metadata": {},
     "output_type": "execute_result"
    }
   ],
   "source": [
    "def get_digits(trainX, trainY, digits):\n",
    "    ret_x = []\n",
    "    ret_y = []\n",
    "    for i in range(len(trainX)):\n",
    "        if trainY[i][0] in digits:\n",
    "            x = np.insert(trainX[i], 0, 1)\n",
    "            ret_x.append(x)\n",
    "            if trainY[i] == digits[0]:\n",
    "                ret_y.append([0])\n",
    "            else:\n",
    "                ret_y.append([1])\n",
    "    return np.array(ret_x), np.array(ret_y)\n",
    "\n",
    "zoX, zoY = get_digits(trainX, trainY, [0, 1])\n",
    "\n",
    "zoY.shape"
   ]
  },
  {
   "cell_type": "code",
   "execution_count": 5,
   "id": "133b1d67",
   "metadata": {},
   "outputs": [
    {
     "name": "stdout",
     "output_type": "stream",
     "text": [
      "(785, 1)\n"
     ]
    }
   ],
   "source": [
    "def initialize_beta(deviation, size):\n",
    "    B = np.random.normal(0, deviation**2, size)\n",
    "    return B\n",
    "\n",
    "beta = initialize_beta(1, (zoX.shape[1], 1))\n",
    "print(beta.shape)"
   ]
  },
  {
   "cell_type": "code",
   "execution_count": 6,
   "id": "9b877351",
   "metadata": {},
   "outputs": [
    {
     "data": {
      "text/plain": [
       "(785, 1)"
      ]
     },
     "execution_count": 6,
     "metadata": {},
     "output_type": "execute_result"
    }
   ],
   "source": [
    "def cost(beta, X, Y, sigma):\n",
    "    x_dot_beta = np.dot(X, beta)\n",
    "    part1 = np.sum(x_dot_beta * (1-Y))\n",
    "    \n",
    "    #part 2\n",
    "    part2 = np.sum(np.log(1+np.exp(-1*x_dot_beta)))\n",
    "    \n",
    "    #part 3\n",
    "    part3 = (1 / (2 * sigma**2)) * np.linalg.norm(beta)\n",
    "    return part1 + part2 + part3\n",
    "\n",
    "\n",
    "#output shape should be the shape of beta\n",
    "\n",
    "def gradient(beta, X, Y):\n",
    "    x_dot_beta = np.dot(X, beta)\n",
    "    p1 = ((Y-1) + ( np.exp(-1 * x_dot_beta)/ (1 + np.exp(-1*x_dot_beta))+0.01)).T\n",
    "    total = np.dot(p1, X).T\n",
    "    return total\n",
    "\n",
    "def sigmoid(x):\n",
    "    return 1 / (1 + np.exp(-1 * x))\n",
    "\n",
    "gradient(beta, zoX, zoY).shape"
   ]
  },
  {
   "cell_type": "code",
   "execution_count": 7,
   "id": "1200da1f",
   "metadata": {},
   "outputs": [
    {
     "name": "stdout",
     "output_type": "stream",
     "text": [
      "(785, 1)\n"
     ]
    }
   ],
   "source": [
    "def gradient_descent(X, Y, sigma, learning_rate, threshold):\n",
    "    beta = initialize_beta(sigma, (X.shape[1], 1))\n",
    "    energies = []\n",
    "    \n",
    "    prev_energy = 0\n",
    "    curr_energy = cost(beta, X, Y, sigma)\n",
    "    energies.append(curr_energy)\n",
    "    i = 0\n",
    "    \n",
    "    while i < 10000:\n",
    "        #while np.linalg.norm(beta) > threshold and i < 1000:\n",
    "        g = gradient(beta, X, Y)\n",
    "        if np.linalg.norm(g) <= threshold:\n",
    "            break\n",
    "        beta = beta + learning_rate * g \n",
    "        prev_energy = curr_energy\n",
    "        curr_energy = cost(beta, X, Y, sigma)\n",
    "        energies.append(curr_energy)\n",
    "        #if i%100 == 0:\n",
    "        #    print(np.linalg.norm(g))\n",
    "        i += 1\n",
    "    return beta #np.dot(X, beta)\n",
    "\n",
    "\n",
    "def convert(arr):\n",
    "    ret = (arr > 0.5)*1\n",
    "    return ret\n",
    "\n",
    "def predict(beta, X):\n",
    "    results = convert(sigmoid(np.dot(X, beta)))\n",
    "    return results\n",
    "\n",
    "def accuracy(a1, a2):\n",
    "    same = a1 == a2\n",
    "    return 100 * np.sum(same) / len(same)\n",
    "\n",
    "def zero_one_loss(a1, a2):\n",
    "    not_same = a1 != a2\n",
    "    return np.sum(not_same) / len(not_same)\n",
    "\n",
    "\n",
    "\n",
    "results = gradient_descent(zoX, zoY, 0.1, 0.0005, .001)\n",
    "#trans = sigmoid(results)\n",
    "print(results.shape)\n",
    "#print(trans)\n",
    "#print(convert(trans))\n",
    "        \n",
    "    "
   ]
  },
  {
   "cell_type": "code",
   "execution_count": 8,
   "id": "ce444737",
   "metadata": {},
   "outputs": [
    {
     "name": "stdout",
     "output_type": "stream",
     "text": [
      "Error Rate on training data:  0.0\n",
      "Error Rate on testing data:  0.03508771929824561\n"
     ]
    }
   ],
   "source": [
    "#validation on the training data\n",
    "b_test = gradient_descent(zoX, zoY, 0.1, 0.0005, 1.82)\n",
    "\n",
    "preds_01 = predict(b_test, zoX)\n",
    "\n",
    "print(\"Error Rate on training data: \", zero_one_loss(preds_01, zoY))\n",
    "\n",
    "#testing\n",
    "\n",
    "x_test_01, y_test_01 = get_digits(testX, testY, [0, 1])\n",
    " \n",
    "test_preds_01 = predict(b_test, x_test_01)\n",
    "\n",
    "print(\"Error Rate on testing data: \", zero_one_loss(test_preds_01, y_test_01))\n",
    "\n",
    "\n"
   ]
  },
  {
   "cell_type": "code",
   "execution_count": 9,
   "id": "edb2da78",
   "metadata": {},
   "outputs": [
    {
     "name": "stdout",
     "output_type": "stream",
     "text": [
      "Error Rate on training data:  0.0\n",
      "Error Rate on testing data:  0.008771929824561403\n"
     ]
    }
   ],
   "source": [
    "def compare_digits(digits, xtrain, ytrain, xtest, ytest, sigma, learning_rate, threshold):\n",
    "    x1, y1 = get_digits(xtrain, ytrain, digits)\n",
    "    \n",
    "    B = gradient_descent(x1, y1, sigma, learning_rate, threshold)\n",
    "    \n",
    "    train_preds = predict(B, x1)\n",
    "    print(\"Error Rate on training data: \", zero_one_loss(train_preds, y1))\n",
    "    \n",
    "    x2, y2 = get_digits(xtest, ytest, digits)\n",
    "    test_preds = predict(B, x2)\n",
    "    \n",
    "    print(\"Error Rate on testing data: \", zero_one_loss(test_preds, y2))\n",
    "    \n",
    "compare_digits([0, 1], trainX, trainY, testX, testY, 0.1, 0.0005, 2.5)"
   ]
  },
  {
   "cell_type": "code",
   "execution_count": 10,
   "id": "24971b00",
   "metadata": {},
   "outputs": [
    {
     "name": "stdout",
     "output_type": "stream",
     "text": [
      "Error Rate on training data:  0.0\n",
      "Error Rate on testing data:  0.008928571428571428\n"
     ]
    }
   ],
   "source": [
    "compare_digits([6, 8], trainX, trainY, testX, testY, 0.1, 0.0005, 2.5)"
   ]
  },
  {
   "cell_type": "markdown",
   "id": "7168b420",
   "metadata": {},
   "source": [
    "# Question 2"
   ]
  },
  {
   "cell_type": "code",
   "execution_count": 11,
   "id": "16da5ad4",
   "metadata": {},
   "outputs": [],
   "source": [
    "# Here we will just project the train images to the lower dimensional space, then make predictions for the same test data"
   ]
  },
  {
   "cell_type": "code",
   "execution_count": 12,
   "id": "3c61fe4d",
   "metadata": {},
   "outputs": [],
   "source": [
    "\n",
    "zeroone_x, zeroone_y = get_digits(trainX, trainY, [0, 1])\n",
    "\n",
    "def calc_row_mean(data):\n",
    "    ret = []\n",
    "    \n",
    "    for row in data:\n",
    "        ret.append([np.sum(row) / len(row)])\n",
    "    return np.array(ret)\n",
    "\n",
    "x_mean = calc_row_mean(zeroone_x)\n",
    "\n",
    "#subtract\n",
    "def subtract(d1, d2):\n",
    "    return d1 - d2\n",
    "x_train_adjust = subtract(zeroone_x, x_mean)\n",
    "\n",
    "def cov(r1, r2):\n",
    "    total = 0\n",
    "    for i in range(len(r1)):\n",
    "        total += (r1[i]) * (r2[i]) # we can do this because the means of the rows are 0 so we don't subtract\n",
    "    return total / (len(r1) - 1)\n",
    "\n",
    "# This would be significantly faster with np.cov()\n",
    "# takes approx. 30 seconds\n",
    "def cov_matrix(data):\n",
    "    ret = np.zeros((data.shape[0], data.shape[0]))\n",
    "    \n",
    "    for i in range(len(data)):\n",
    "        for j in range(i, len(data)):\n",
    "            store = cov(data[i], data[j])\n",
    "            ret[i][j] = store\n",
    "            ret[j][i] = store\n",
    "    return ret\n",
    "    \n",
    "covariance_x = cov_matrix(x_train_adjust)\n"
   ]
  },
  {
   "cell_type": "code",
   "execution_count": 13,
   "id": "b7013439",
   "metadata": {},
   "outputs": [],
   "source": [
    "def compute_eigen(data):\n",
    "    return np.linalg.eig(data)\n",
    "\n",
    "w, v = compute_eigen(covariance_x)\n",
    "\n",
    "def back_2_original(data, eigenvectors, num_eigens):\n",
    "    eigens = eigenvectors[:,:num_eigens]\n",
    "    A_swiggle = np.dot(data.T, eigens) #(784, 10)\n",
    "    original = np.dot(A_swiggle, eigens.T).T\n",
    "    return original\n",
    "    \n",
    "\n",
    "PCA_10_x_train = back_2_original(x_train_adjust, v, 10)\n",
    "PCA_20_x_train = back_2_original(x_train_adjust, v, 20)\n",
    "PCA_30_x_train = back_2_original(x_train_adjust, v, 30)"
   ]
  },
  {
   "cell_type": "code",
   "execution_count": 14,
   "id": "1d595c56",
   "metadata": {},
   "outputs": [
    {
     "data": {
      "text/plain": [
       "<matplotlib.image.AxesImage at 0x19200064b20>"
      ]
     },
     "execution_count": 14,
     "metadata": {},
     "output_type": "execute_result"
    },
    {
     "data": {
      "image/png": "[encoded data removed]",
      "text/plain": [
       "<Figure size 432x288 with 2 Axes>"
      ]
     },
     "metadata": {
      "needs_background": "light"
     },
     "output_type": "display_data"
    }
   ],
   "source": [
    "image1 = np.reshape(PCA_10_x_train[40][1:], (28, 28))\n",
    "imshow(image1)"
   ]
  },
  {
   "cell_type": "code",
   "execution_count": 18,
   "id": "e34084cf",
   "metadata": {},
   "outputs": [
    {
     "name": "stdout",
     "output_type": "stream",
     "text": [
      "Error Rate on training data:  0.0\n",
      "Error Rate on testing data:  0.0\n",
      "Time to train: 0.15922951698303223\n"
     ]
    }
   ],
   "source": [
    "t0 = time.time()\n",
    "B = gradient_descent(PCA_10_x_train, zeroone_y, 0.1, 0.0005, 2.5)\n",
    "t1 = time.time()\n",
    "\n",
    "train_preds = predict(B, PCA_10_x_train)\n",
    "print(\"Error Rate on training data: \", zero_one_loss(train_preds, zeroone_y))\n",
    "\n",
    "x2, y2 = get_digits(testX, testY, [0, 1])\n",
    "test_preds = predict(B, x2)\n",
    "\n",
    "print(\"Error Rate on testing data: \", zero_one_loss(test_preds, y2))\n",
    "print(\"Time to train:\", t1-t0)"
   ]
  },
  {
   "cell_type": "code",
   "execution_count": 22,
   "id": "bd84cf6e",
   "metadata": {},
   "outputs": [
    {
     "name": "stdout",
     "output_type": "stream",
     "text": [
      "Error Rate on training data:  0.0\n",
      "Error Rate on testing data:  0.0\n",
      "Time to train: 0.3512747287750244\n"
     ]
    }
   ],
   "source": [
    "t0 = time.time()\n",
    "B = gradient_descent(PCA_20_x_train, zeroone_y, 0.1, 0.0002, 2.5)\n",
    "t1 = time.time()\n",
    "\n",
    "train_preds = predict(B, PCA_20_x_train)\n",
    "print(\"Error Rate on training data: \", zero_one_loss(train_preds, zeroone_y))\n",
    "\n",
    "x2, y2 = get_digits(testX, testY, [0, 1])\n",
    "test_preds = predict(B, x2)\n",
    "\n",
    "print(\"Error Rate on testing data: \", zero_one_loss(test_preds, y2))\n",
    "print(\"Time to train:\", t1-t0)"
   ]
  },
  {
   "cell_type": "code",
   "execution_count": 24,
   "id": "42be0efc",
   "metadata": {},
   "outputs": [
    {
     "name": "stdout",
     "output_type": "stream",
     "text": [
      "Error Rate on training data:  0.0\n",
      "Error Rate on testing data:  0.0\n",
      "Time to train: 0.5110270977020264\n"
     ]
    }
   ],
   "source": [
    "t0 = time.time()\n",
    "B = gradient_descent(PCA_30_x_train, zeroone_y, 0.1, 0.0001, 3)\n",
    "t1 = time.time()\n",
    "train_preds = predict(B, PCA_30_x_train)\n",
    "print(\"Error Rate on training data: \", zero_one_loss(train_preds, zeroone_y))\n",
    "\n",
    "x2, y2 = get_digits(testX, testY, [0, 1])\n",
    "test_preds = predict(B, x2)\n",
    "\n",
    "print(\"Error Rate on testing data: \", zero_one_loss(test_preds, y2))\n",
    "print(\"Time to train:\", t1-t0)"
   ]
  },
  {
   "cell_type": "code",
   "execution_count": null,
   "id": "2ca39723",
   "metadata": {},
   "outputs": [],
   "source": []
  },
  {
   "cell_type": "code",
   "execution_count": null,
   "id": "aed08240",
   "metadata": {},
   "outputs": [],
   "source": []
  },
  {
   "cell_type": "code",
   "execution_count": null,
   "id": "e4a0150d",
   "metadata": {},
   "outputs": [],
   "source": []
  }
 ],
 "metadata": {
  "kernelspec": {
   "display_name": "Python 3 (ipykernel)",
   "language": "python",
   "name": "python3"
  },
  "language_info": {
   "codemirror_mode": {
    "name": "ipython",
    "version": 3
   },
   "file_extension": ".py",
   "mimetype": "text/x-python",
   "name": "python",
   "nbconvert_exporter": "python",
   "pygments_lexer": "ipython3",
   "version": "3.9.6"
  }
 },
 "nbformat": 4,
 "nbformat_minor": 5
}
